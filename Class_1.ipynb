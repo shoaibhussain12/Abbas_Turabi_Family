{
  "nbformat": 4,
  "nbformat_minor": 0,
  "metadata": {
    "colab": {
      "provenance": [],
      "authorship_tag": "ABX9TyM7jnrIR2rB0zonb1eAc/Gk",
      "include_colab_link": true
    },
    "kernelspec": {
      "name": "python3",
      "display_name": "Python 3"
    },
    "language_info": {
      "name": "python"
    }
  },
  "cells": [
    {
      "cell_type": "markdown",
      "metadata": {
        "id": "view-in-github",
        "colab_type": "text"
      },
      "source": [
        "<a href=\"https://colab.research.google.com/github/shoaibhussain12/Abbas_Turabi_Family/blob/main/Class_1.ipynb\" target=\"_parent\"><img src=\"https://colab.research.google.com/assets/colab-badge.svg\" alt=\"Open In Colab\"/></a>"
      ]
    },
    {
      "cell_type": "code",
      "execution_count": 37,
      "metadata": {
        "id": "F8cCUgtwWG8l"
      },
      "outputs": [],
      "source": [
        "!pip install -q langchain google-generativeai langchain-google-genai"
      ]
    },
    {
      "cell_type": "code",
      "source": [
        "from langchain.prompts import PromptTemplate\n",
        "from langchain.chains import LLMChain\n",
        "from langchain_google_genai import GoogleGenerativeAI"
      ],
      "metadata": {
        "id": "63afBTHoafha"
      },
      "execution_count": 40,
      "outputs": []
    },
    {
      "cell_type": "code",
      "source": [
        "from google.colab import userdata\n",
        "import os\n",
        "os.environ['GOOGLE_GENERATIVE_AI']= userdata.get('GOOGLE_API_KEY')"
      ],
      "metadata": {
        "id": "xPRkDbSPffZy"
      },
      "execution_count": 41,
      "outputs": []
    },
    {
      "cell_type": "code",
      "source": [
        "import os\n",
        "api_key = os.environ.get('GOOGLE_GENERATIVE_AI')\n",
        "llM =GoogleGenerativeAI(\n",
        "     model=\"gemini-2.0-flash-exp\",\n",
        "    temperature=0.5,\n",
        "     api_key=api_key\n",
        ")\n",
        "\n"
      ],
      "metadata": {
        "id": "ZPyVqasSj-Rj"
      },
      "execution_count": 42,
      "outputs": []
    },
    {
      "cell_type": "code",
      "source": [
        "model = PromptTemplate(\n",
        "    input_variables=[\"text\"],\n",
        "    template=\"Say the following text : {text}\"\n",
        ")"
      ],
      "metadata": {
        "id": "9C3tkGcWkzun"
      },
      "execution_count": 43,
      "outputs": []
    },
    {
      "cell_type": "code",
      "source": [
        "chain = LLMChain(\n",
        "    llm=llM, prompt=model\n",
        "    )\n",
        "response = chain.run({\"text\":\"Hello World!\"})\n",
        "print(\"print ai response :\",response)"
      ],
      "metadata": {
        "colab": {
          "base_uri": "https://localhost:8080/"
        },
        "id": "L1nWC2pxhym_",
        "outputId": "fd474cd3-4c73-4ad3-b266-4c15a6523a86"
      },
      "execution_count": 44,
      "outputs": [
        {
          "output_type": "stream",
          "name": "stderr",
          "text": [
            "<ipython-input-44-97e35f028202>:4: LangChainDeprecationWarning: The method `Chain.run` was deprecated in langchain 0.1.0 and will be removed in 1.0. Use :meth:`~invoke` instead.\n",
            "  response = chain.run({\"text\":\"Hello World!\"})\n"
          ]
        },
        {
          "output_type": "stream",
          "name": "stdout",
          "text": [
            "print ai response : Hello World!\n",
            "\n"
          ]
        }
      ]
    }
  ]
}